{
 "cells": [
  {
   "cell_type": "code",
   "execution_count": 23,
   "id": "7dcd6eff",
   "metadata": {},
   "outputs": [],
   "source": [
    "import pandas as pd\n",
    "import numpy as np\n",
    "import random\n",
    "import string"
   ]
  },
  {
   "cell_type": "markdown",
   "id": "9dcc28fb",
   "metadata": {},
   "source": [
    "* ### Series is just a single column on data\n",
    "* ### Data frame is a collection of series"
   ]
  },
  {
   "cell_type": "code",
   "execution_count": 57,
   "id": "0251de62",
   "metadata": {},
   "outputs": [
    {
     "data": {
      "text/plain": [
       "[0, 1, 2, 3, 4, 5, 6, 7, 8, 9]"
      ]
     },
     "execution_count": 57,
     "metadata": {},
     "output_type": "execute_result"
    }
   ],
   "source": [
    "data1 = [i for i in range(10)]\n",
    "data1"
   ]
  },
  {
   "cell_type": "code",
   "execution_count": 8,
   "id": "3f4af727",
   "metadata": {},
   "outputs": [
    {
     "name": "stdout",
     "output_type": "stream",
     "text": [
      "['A', 'B', 'C', 'D', 'E', 'F', 'G', 'H', 'I', 'J', 'K', 'L', 'M', 'N', 'O', 'P', 'Q', 'R', 'S', 'T', 'U', 'V', 'W', 'X', 'Y', 'Z']\n"
     ]
    }
   ],
   "source": [
    "alphalist = list(string.ascii_uppercase)\n",
    "print(alphalist)"
   ]
  },
  {
   "cell_type": "code",
   "execution_count": 10,
   "id": "23000495",
   "metadata": {},
   "outputs": [
    {
     "data": {
      "text/plain": [
       "['A', 'B', 'C', 'D', 'E', 'F', 'G', 'H', 'I', 'J']"
      ]
     },
     "execution_count": 10,
     "metadata": {},
     "output_type": "execute_result"
    }
   ],
   "source": [
    "index1 = [alphalist[i] for i in range(10)]\n",
    "index1"
   ]
  },
  {
   "cell_type": "code",
   "execution_count": 14,
   "id": "8dfa227f",
   "metadata": {},
   "outputs": [
    {
     "data": {
      "text/plain": [
       "A    0\n",
       "B    1\n",
       "C    2\n",
       "D    3\n",
       "E    4\n",
       "F    5\n",
       "G    6\n",
       "H    7\n",
       "I    8\n",
       "J    9\n",
       "dtype: int64"
      ]
     },
     "execution_count": 14,
     "metadata": {},
     "output_type": "execute_result"
    }
   ],
   "source": [
    "series1 = pd.Series(data=data1,index=index1)\n",
    "series1"
   ]
  },
  {
   "cell_type": "code",
   "execution_count": 17,
   "id": "ddaf1526",
   "metadata": {},
   "outputs": [
    {
     "data": {
      "text/plain": [
       "{'A': 0,\n",
       " 'B': 1,\n",
       " 'C': 2,\n",
       " 'D': 3,\n",
       " 'E': 4,\n",
       " 'F': 5,\n",
       " 'G': 6,\n",
       " 'H': 7,\n",
       " 'I': 8,\n",
       " 'J': 9}"
      ]
     },
     "execution_count": 17,
     "metadata": {},
     "output_type": "execute_result"
    }
   ],
   "source": [
    "dico = {k:v for k,v in zip(index1,data1)}\n",
    "dico"
   ]
  },
  {
   "cell_type": "code",
   "execution_count": 18,
   "id": "4ae3cc54",
   "metadata": {},
   "outputs": [
    {
     "data": {
      "text/plain": [
       "A    0\n",
       "B    1\n",
       "C    2\n",
       "D    3\n",
       "E    4\n",
       "F    5\n",
       "G    6\n",
       "H    7\n",
       "I    8\n",
       "J    9\n",
       "dtype: int64"
      ]
     },
     "execution_count": 18,
     "metadata": {},
     "output_type": "execute_result"
    }
   ],
   "source": [
    "series2 = pd.Series(dico)\n",
    "series2"
   ]
  },
  {
   "cell_type": "code",
   "execution_count": 32,
   "id": "8ef3fcdc",
   "metadata": {},
   "outputs": [
    {
     "data": {
      "text/html": [
       "<div>\n",
       "<style scoped>\n",
       "    .dataframe tbody tr th:only-of-type {\n",
       "        vertical-align: middle;\n",
       "    }\n",
       "\n",
       "    .dataframe tbody tr th {\n",
       "        vertical-align: top;\n",
       "    }\n",
       "\n",
       "    .dataframe thead th {\n",
       "        text-align: right;\n",
       "    }\n",
       "</style>\n",
       "<table border=\"1\" class=\"dataframe\">\n",
       "  <thead>\n",
       "    <tr style=\"text-align: right;\">\n",
       "      <th></th>\n",
       "      <th>V</th>\n",
       "      <th>W</th>\n",
       "      <th>X</th>\n",
       "      <th>Y</th>\n",
       "      <th>Z</th>\n",
       "    </tr>\n",
       "  </thead>\n",
       "  <tbody>\n",
       "    <tr>\n",
       "      <th>A</th>\n",
       "      <td>-0.268847</td>\n",
       "      <td>-0.615396</td>\n",
       "      <td>0.806419</td>\n",
       "      <td>-1.121243</td>\n",
       "      <td>0.487422</td>\n",
       "    </tr>\n",
       "    <tr>\n",
       "      <th>B</th>\n",
       "      <td>-0.443575</td>\n",
       "      <td>0.684976</td>\n",
       "      <td>-0.142947</td>\n",
       "      <td>0.895569</td>\n",
       "      <td>1.305662</td>\n",
       "    </tr>\n",
       "    <tr>\n",
       "      <th>C</th>\n",
       "      <td>1.572819</td>\n",
       "      <td>-0.451603</td>\n",
       "      <td>0.528171</td>\n",
       "      <td>-0.138050</td>\n",
       "      <td>-0.470075</td>\n",
       "    </tr>\n",
       "    <tr>\n",
       "      <th>D</th>\n",
       "      <td>0.436562</td>\n",
       "      <td>0.641606</td>\n",
       "      <td>0.913793</td>\n",
       "      <td>0.158354</td>\n",
       "      <td>1.975006</td>\n",
       "    </tr>\n",
       "    <tr>\n",
       "      <th>E</th>\n",
       "      <td>1.129882</td>\n",
       "      <td>-0.615630</td>\n",
       "      <td>1.977393</td>\n",
       "      <td>1.239391</td>\n",
       "      <td>-1.094814</td>\n",
       "    </tr>\n",
       "  </tbody>\n",
       "</table>\n",
       "</div>"
      ],
      "text/plain": [
       "          V         W         X         Y         Z\n",
       "A -0.268847 -0.615396  0.806419 -1.121243  0.487422\n",
       "B -0.443575  0.684976 -0.142947  0.895569  1.305662\n",
       "C  1.572819 -0.451603  0.528171 -0.138050 -0.470075\n",
       "D  0.436562  0.641606  0.913793  0.158354  1.975006\n",
       "E  1.129882 -0.615630  1.977393  1.239391 -1.094814"
      ]
     },
     "execution_count": 32,
     "metadata": {},
     "output_type": "execute_result"
    }
   ],
   "source": [
    "df = pd.DataFrame(np.random.randn(5,5),index='A/B/C/D/E'.split('/'), columns='V/W/X/Y/Z'.split(\"/\"))\n",
    "df"
   ]
  },
  {
   "cell_type": "code",
   "execution_count": 39,
   "id": "a013151c",
   "metadata": {},
   "outputs": [
    {
     "data": {
      "text/html": [
       "<div>\n",
       "<style scoped>\n",
       "    .dataframe tbody tr th:only-of-type {\n",
       "        vertical-align: middle;\n",
       "    }\n",
       "\n",
       "    .dataframe tbody tr th {\n",
       "        vertical-align: top;\n",
       "    }\n",
       "\n",
       "    .dataframe thead th {\n",
       "        text-align: right;\n",
       "    }\n",
       "</style>\n",
       "<table border=\"1\" class=\"dataframe\">\n",
       "  <thead>\n",
       "    <tr style=\"text-align: right;\">\n",
       "      <th></th>\n",
       "      <th>V</th>\n",
       "      <th>X</th>\n",
       "    </tr>\n",
       "  </thead>\n",
       "  <tbody>\n",
       "    <tr>\n",
       "      <th>A</th>\n",
       "      <td>-0.268847</td>\n",
       "      <td>0.806419</td>\n",
       "    </tr>\n",
       "    <tr>\n",
       "      <th>B</th>\n",
       "      <td>-0.443575</td>\n",
       "      <td>-0.142947</td>\n",
       "    </tr>\n",
       "    <tr>\n",
       "      <th>C</th>\n",
       "      <td>1.572819</td>\n",
       "      <td>0.528171</td>\n",
       "    </tr>\n",
       "    <tr>\n",
       "      <th>D</th>\n",
       "      <td>0.436562</td>\n",
       "      <td>0.913793</td>\n",
       "    </tr>\n",
       "    <tr>\n",
       "      <th>E</th>\n",
       "      <td>1.129882</td>\n",
       "      <td>1.977393</td>\n",
       "    </tr>\n",
       "  </tbody>\n",
       "</table>\n",
       "</div>"
      ],
      "text/plain": [
       "          V         X\n",
       "A -0.268847  0.806419\n",
       "B -0.443575 -0.142947\n",
       "C  1.572819  0.528171\n",
       "D  0.436562  0.913793\n",
       "E  1.129882  1.977393"
      ]
     },
     "execution_count": 39,
     "metadata": {},
     "output_type": "execute_result"
    }
   ],
   "source": [
    "# sELECTING COLUMNS\n",
    "df[['V','X']]"
   ]
  },
  {
   "cell_type": "code",
   "execution_count": 38,
   "id": "1904fab7",
   "metadata": {},
   "outputs": [
    {
     "data": {
      "text/html": [
       "<div>\n",
       "<style scoped>\n",
       "    .dataframe tbody tr th:only-of-type {\n",
       "        vertical-align: middle;\n",
       "    }\n",
       "\n",
       "    .dataframe tbody tr th {\n",
       "        vertical-align: top;\n",
       "    }\n",
       "\n",
       "    .dataframe thead th {\n",
       "        text-align: right;\n",
       "    }\n",
       "</style>\n",
       "<table border=\"1\" class=\"dataframe\">\n",
       "  <thead>\n",
       "    <tr style=\"text-align: right;\">\n",
       "      <th></th>\n",
       "      <th>W</th>\n",
       "      <th>Y</th>\n",
       "    </tr>\n",
       "  </thead>\n",
       "  <tbody>\n",
       "    <tr>\n",
       "      <th>A</th>\n",
       "      <td>-0.615396</td>\n",
       "      <td>-1.121243</td>\n",
       "    </tr>\n",
       "    <tr>\n",
       "      <th>B</th>\n",
       "      <td>0.684976</td>\n",
       "      <td>0.895569</td>\n",
       "    </tr>\n",
       "    <tr>\n",
       "      <th>C</th>\n",
       "      <td>-0.451603</td>\n",
       "      <td>-0.138050</td>\n",
       "    </tr>\n",
       "    <tr>\n",
       "      <th>D</th>\n",
       "      <td>0.641606</td>\n",
       "      <td>0.158354</td>\n",
       "    </tr>\n",
       "    <tr>\n",
       "      <th>E</th>\n",
       "      <td>-0.615630</td>\n",
       "      <td>1.239391</td>\n",
       "    </tr>\n",
       "  </tbody>\n",
       "</table>\n",
       "</div>"
      ],
      "text/plain": [
       "          W         Y\n",
       "A -0.615396 -1.121243\n",
       "B  0.684976  0.895569\n",
       "C -0.451603 -0.138050\n",
       "D  0.641606  0.158354\n",
       "E -0.615630  1.239391"
      ]
     },
     "execution_count": 38,
     "metadata": {},
     "output_type": "execute_result"
    }
   ],
   "source": [
    "df[['W','Y']]"
   ]
  },
  {
   "cell_type": "code",
   "execution_count": 41,
   "id": "fcff30f6",
   "metadata": {},
   "outputs": [
    {
     "data": {
      "text/plain": [
       "V   -0.268847\n",
       "W   -0.615396\n",
       "X    0.806419\n",
       "Y   -1.121243\n",
       "Z    0.487422\n",
       "Name: A, dtype: float64"
      ]
     },
     "execution_count": 41,
     "metadata": {},
     "output_type": "execute_result"
    }
   ],
   "source": [
    "# We use iloc to select a particular row\n",
    "df.iloc[0]"
   ]
  },
  {
   "cell_type": "code",
   "execution_count": 44,
   "id": "6691472c",
   "metadata": {},
   "outputs": [
    {
     "data": {
      "text/plain": [
       "-0.44357487357037656"
      ]
     },
     "execution_count": 44,
     "metadata": {},
     "output_type": "execute_result"
    }
   ],
   "source": [
    "# To select a particular value in a location, almost like a point on a graph\n",
    "df.loc['B']['V']"
   ]
  },
  {
   "cell_type": "code",
   "execution_count": 53,
   "id": "1e2aa102",
   "metadata": {},
   "outputs": [
    {
     "data": {
      "text/plain": [
       "A    False\n",
       "B     True\n",
       "C    False\n",
       "D     True\n",
       "E    False\n",
       "Name: W, dtype: bool"
      ]
     },
     "execution_count": 53,
     "metadata": {},
     "output_type": "execute_result"
    }
   ],
   "source": [
    "df['W']> 0"
   ]
  },
  {
   "cell_type": "code",
   "execution_count": 49,
   "id": "e5706776",
   "metadata": {},
   "outputs": [
    {
     "data": {
      "text/html": [
       "<div>\n",
       "<style scoped>\n",
       "    .dataframe tbody tr th:only-of-type {\n",
       "        vertical-align: middle;\n",
       "    }\n",
       "\n",
       "    .dataframe tbody tr th {\n",
       "        vertical-align: top;\n",
       "    }\n",
       "\n",
       "    .dataframe thead th {\n",
       "        text-align: right;\n",
       "    }\n",
       "</style>\n",
       "<table border=\"1\" class=\"dataframe\">\n",
       "  <thead>\n",
       "    <tr style=\"text-align: right;\">\n",
       "      <th></th>\n",
       "      <th>V</th>\n",
       "      <th>W</th>\n",
       "      <th>X</th>\n",
       "      <th>Y</th>\n",
       "      <th>Z</th>\n",
       "    </tr>\n",
       "  </thead>\n",
       "  <tbody>\n",
       "    <tr>\n",
       "      <th>B</th>\n",
       "      <td>-0.443575</td>\n",
       "      <td>0.684976</td>\n",
       "      <td>-0.142947</td>\n",
       "      <td>0.895569</td>\n",
       "      <td>1.305662</td>\n",
       "    </tr>\n",
       "    <tr>\n",
       "      <th>D</th>\n",
       "      <td>0.436562</td>\n",
       "      <td>0.641606</td>\n",
       "      <td>0.913793</td>\n",
       "      <td>0.158354</td>\n",
       "      <td>1.975006</td>\n",
       "    </tr>\n",
       "  </tbody>\n",
       "</table>\n",
       "</div>"
      ],
      "text/plain": [
       "          V         W         X         Y         Z\n",
       "B -0.443575  0.684976 -0.142947  0.895569  1.305662\n",
       "D  0.436562  0.641606  0.913793  0.158354  1.975006"
      ]
     },
     "execution_count": 49,
     "metadata": {},
     "output_type": "execute_result"
    }
   ],
   "source": [
    "df[df['W']> 0]"
   ]
  },
  {
   "cell_type": "code",
   "execution_count": 51,
   "id": "d140fec9",
   "metadata": {},
   "outputs": [],
   "source": [
    "# adding new column to the data frame\n",
    "df['U'] = df['V']+df['Z'] "
   ]
  },
  {
   "cell_type": "code",
   "execution_count": 52,
   "id": "caa3596e",
   "metadata": {},
   "outputs": [
    {
     "data": {
      "text/html": [
       "<div>\n",
       "<style scoped>\n",
       "    .dataframe tbody tr th:only-of-type {\n",
       "        vertical-align: middle;\n",
       "    }\n",
       "\n",
       "    .dataframe tbody tr th {\n",
       "        vertical-align: top;\n",
       "    }\n",
       "\n",
       "    .dataframe thead th {\n",
       "        text-align: right;\n",
       "    }\n",
       "</style>\n",
       "<table border=\"1\" class=\"dataframe\">\n",
       "  <thead>\n",
       "    <tr style=\"text-align: right;\">\n",
       "      <th></th>\n",
       "      <th>V</th>\n",
       "      <th>W</th>\n",
       "      <th>X</th>\n",
       "      <th>Y</th>\n",
       "      <th>Z</th>\n",
       "      <th>U</th>\n",
       "    </tr>\n",
       "  </thead>\n",
       "  <tbody>\n",
       "    <tr>\n",
       "      <th>A</th>\n",
       "      <td>-0.268847</td>\n",
       "      <td>-0.615396</td>\n",
       "      <td>0.806419</td>\n",
       "      <td>-1.121243</td>\n",
       "      <td>0.487422</td>\n",
       "      <td>0.218575</td>\n",
       "    </tr>\n",
       "    <tr>\n",
       "      <th>B</th>\n",
       "      <td>-0.443575</td>\n",
       "      <td>0.684976</td>\n",
       "      <td>-0.142947</td>\n",
       "      <td>0.895569</td>\n",
       "      <td>1.305662</td>\n",
       "      <td>0.862087</td>\n",
       "    </tr>\n",
       "    <tr>\n",
       "      <th>C</th>\n",
       "      <td>1.572819</td>\n",
       "      <td>-0.451603</td>\n",
       "      <td>0.528171</td>\n",
       "      <td>-0.138050</td>\n",
       "      <td>-0.470075</td>\n",
       "      <td>1.102744</td>\n",
       "    </tr>\n",
       "    <tr>\n",
       "      <th>D</th>\n",
       "      <td>0.436562</td>\n",
       "      <td>0.641606</td>\n",
       "      <td>0.913793</td>\n",
       "      <td>0.158354</td>\n",
       "      <td>1.975006</td>\n",
       "      <td>2.411567</td>\n",
       "    </tr>\n",
       "    <tr>\n",
       "      <th>E</th>\n",
       "      <td>1.129882</td>\n",
       "      <td>-0.615630</td>\n",
       "      <td>1.977393</td>\n",
       "      <td>1.239391</td>\n",
       "      <td>-1.094814</td>\n",
       "      <td>0.035067</td>\n",
       "    </tr>\n",
       "  </tbody>\n",
       "</table>\n",
       "</div>"
      ],
      "text/plain": [
       "          V         W         X         Y         Z         U\n",
       "A -0.268847 -0.615396  0.806419 -1.121243  0.487422  0.218575\n",
       "B -0.443575  0.684976 -0.142947  0.895569  1.305662  0.862087\n",
       "C  1.572819 -0.451603  0.528171 -0.138050 -0.470075  1.102744\n",
       "D  0.436562  0.641606  0.913793  0.158354  1.975006  2.411567\n",
       "E  1.129882 -0.615630  1.977393  1.239391 -1.094814  0.035067"
      ]
     },
     "execution_count": 52,
     "metadata": {},
     "output_type": "execute_result"
    }
   ],
   "source": [
    "df"
   ]
  },
  {
   "cell_type": "code",
   "execution_count": 54,
   "id": "e3f77ee5",
   "metadata": {},
   "outputs": [
    {
     "data": {
      "text/plain": [
       "A     True\n",
       "B     True\n",
       "C    False\n",
       "D     True\n",
       "E    False\n",
       "dtype: bool"
      ]
     },
     "execution_count": 54,
     "metadata": {},
     "output_type": "execute_result"
    }
   ],
   "source": [
    "df['U'] > df['V']"
   ]
  },
  {
   "cell_type": "code",
   "execution_count": 55,
   "id": "5ed6504a",
   "metadata": {},
   "outputs": [
    {
     "data": {
      "text/html": [
       "<div>\n",
       "<style scoped>\n",
       "    .dataframe tbody tr th:only-of-type {\n",
       "        vertical-align: middle;\n",
       "    }\n",
       "\n",
       "    .dataframe tbody tr th {\n",
       "        vertical-align: top;\n",
       "    }\n",
       "\n",
       "    .dataframe thead th {\n",
       "        text-align: right;\n",
       "    }\n",
       "</style>\n",
       "<table border=\"1\" class=\"dataframe\">\n",
       "  <thead>\n",
       "    <tr style=\"text-align: right;\">\n",
       "      <th></th>\n",
       "      <th>V</th>\n",
       "      <th>W</th>\n",
       "      <th>X</th>\n",
       "      <th>Y</th>\n",
       "      <th>Z</th>\n",
       "      <th>U</th>\n",
       "    </tr>\n",
       "  </thead>\n",
       "  <tbody>\n",
       "    <tr>\n",
       "      <th>A</th>\n",
       "      <td>-0.268847</td>\n",
       "      <td>-0.615396</td>\n",
       "      <td>0.806419</td>\n",
       "      <td>-1.121243</td>\n",
       "      <td>0.487422</td>\n",
       "      <td>0.218575</td>\n",
       "    </tr>\n",
       "    <tr>\n",
       "      <th>B</th>\n",
       "      <td>-0.443575</td>\n",
       "      <td>0.684976</td>\n",
       "      <td>-0.142947</td>\n",
       "      <td>0.895569</td>\n",
       "      <td>1.305662</td>\n",
       "      <td>0.862087</td>\n",
       "    </tr>\n",
       "    <tr>\n",
       "      <th>D</th>\n",
       "      <td>0.436562</td>\n",
       "      <td>0.641606</td>\n",
       "      <td>0.913793</td>\n",
       "      <td>0.158354</td>\n",
       "      <td>1.975006</td>\n",
       "      <td>2.411567</td>\n",
       "    </tr>\n",
       "  </tbody>\n",
       "</table>\n",
       "</div>"
      ],
      "text/plain": [
       "          V         W         X         Y         Z         U\n",
       "A -0.268847 -0.615396  0.806419 -1.121243  0.487422  0.218575\n",
       "B -0.443575  0.684976 -0.142947  0.895569  1.305662  0.862087\n",
       "D  0.436562  0.641606  0.913793  0.158354  1.975006  2.411567"
      ]
     },
     "execution_count": 55,
     "metadata": {},
     "output_type": "execute_result"
    }
   ],
   "source": [
    "df[df['U'] > df['V']]"
   ]
  },
  {
   "cell_type": "code",
   "execution_count": null,
   "id": "66092f4f",
   "metadata": {},
   "outputs": [],
   "source": []
  }
 ],
 "metadata": {
  "kernelspec": {
   "display_name": "Python 3 (ipykernel)",
   "language": "python",
   "name": "python3"
  },
  "language_info": {
   "codemirror_mode": {
    "name": "ipython",
    "version": 3
   },
   "file_extension": ".py",
   "mimetype": "text/x-python",
   "name": "python",
   "nbconvert_exporter": "python",
   "pygments_lexer": "ipython3",
   "version": "3.9.12"
  }
 },
 "nbformat": 4,
 "nbformat_minor": 5
}
