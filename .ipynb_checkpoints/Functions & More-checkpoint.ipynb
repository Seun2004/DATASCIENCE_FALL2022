{
 "cells": [
  {
   "cell_type": "markdown",
   "id": "35be60f4",
   "metadata": {},
   "source": [
    "* Basic Operations\n",
    "     * Comparison Operators\n",
    "     * if, elif, else ststements\n",
    "     * for loops\n",
    "     * while loops\n",
    "     * range()\n",
    "     * list comprehension\n",
    "     * functions\n",
    "     * lambda expressions\n",
    "     * map and filter\n",
    "    "
   ]
  },
  {
   "cell_type": "markdown",
   "id": "c771a4ac",
   "metadata": {},
   "source": [
    "* # Range ()"
   ]
  },
  {
   "cell_type": "code",
   "execution_count": null,
   "id": "82e8edfa",
   "metadata": {},
   "outputs": [],
   "source": [
    "range(1,11) # this will return 1,2,3,4,5,6,7,8,9,10\n",
    "# will include numbers between 1 and 11, with 1 included and 11 excluded"
   ]
  },
  {
   "cell_type": "code",
   "execution_count": null,
   "id": "80416170",
   "metadata": {},
   "outputs": [],
   "source": [
    "range(1,11,2) # this will return 1,3,5,7,9"
   ]
  },
  {
   "cell_type": "code",
   "execution_count": null,
   "id": "0be9fc45",
   "metadata": {},
   "outputs": [],
   "source": [
    "for num in range(1,11):\n",
    "    print(num)"
   ]
  },
  {
   "cell_type": "code",
   "execution_count": null,
   "id": "df1e1ef3",
   "metadata": {},
   "outputs": [],
   "source": [
    "for num in range(1,11,2):\n",
    "    print(num)"
   ]
  },
  {
   "cell_type": "code",
   "execution_count": null,
   "id": "5702c51a",
   "metadata": {},
   "outputs": [],
   "source": [
    "for num in range(1,11,2):\n",
    "    print(num**2)"
   ]
  },
  {
   "cell_type": "code",
   "execution_count": null,
   "id": "9f58e38c",
   "metadata": {},
   "outputs": [],
   "source": [
    "for num in range(1,12,2):\n",
    "    print(num**2)"
   ]
  },
  {
   "cell_type": "code",
   "execution_count": null,
   "id": "80bbf6c0",
   "metadata": {},
   "outputs": [],
   "source": [
    "for num in range(1,11,3):\n",
    "    if num % 2== 0:\n",
    "        print ('Even number')\n",
    "    else:\n",
    "        print('Odd number')"
   ]
  },
  {
   "cell_type": "markdown",
   "id": "2ded65bb",
   "metadata": {},
   "source": [
    "* # While Loop"
   ]
  },
  {
   "cell_type": "code",
   "execution_count": 21,
   "id": "56d6c4ab",
   "metadata": {},
   "outputs": [
    {
     "name": "stdout",
     "output_type": "stream",
     "text": [
      "1\n",
      "2\n",
      "3\n",
      "4\n",
      "5\n",
      "6\n",
      "7\n",
      "8\n",
      "9\n",
      "10\n"
     ]
    }
   ],
   "source": [
    "num = 1\n",
    "while num <11:\n",
    "    print(num)\n",
    "    num = num+1\n",
    "    #num += 1"
   ]
  },
  {
   "cell_type": "code",
   "execution_count": 20,
   "id": "91810222",
   "metadata": {},
   "outputs": [
    {
     "name": "stdout",
     "output_type": "stream",
     "text": [
      "Odd number\n",
      "Even number\n",
      "Odd number\n",
      "Even number\n",
      "Odd number\n",
      "Even number\n",
      "Odd number\n",
      "Even number\n",
      "Odd number\n",
      "Even number\n"
     ]
    }
   ],
   "source": [
    "num = 1\n",
    "while num <11:\n",
    "    if num %2 != 0:\n",
    "        print('Odd number')\n",
    "    else:\n",
    "        print('Even number')\n",
    "    num = num+1"
   ]
  },
  {
   "cell_type": "markdown",
   "id": "347d1dc8",
   "metadata": {},
   "source": [
    "* # List Comprehenshion"
   ]
  },
  {
   "cell_type": "code",
   "execution_count": 22,
   "id": "c578eb32",
   "metadata": {},
   "outputs": [
    {
     "name": "stdout",
     "output_type": "stream",
     "text": [
      "Odd number\n",
      "Even number\n",
      "Odd number\n",
      "Even number\n"
     ]
    }
   ],
   "source": [
    "for num in range(1,11,3):\n",
    "    if num % 2== 0:\n",
    "        print('Even number')\n",
    "    else:\n",
    "        print('Odd number')"
   ]
  },
  {
   "cell_type": "code",
   "execution_count": 23,
   "id": "ec7bdb71",
   "metadata": {},
   "outputs": [
    {
     "name": "stdout",
     "output_type": "stream",
     "text": [
      "Even number\n",
      "Odd number\n",
      "Even number\n",
      "Odd number\n",
      "Even number\n",
      "Odd number\n",
      "Even number\n",
      "Odd number\n",
      "Even number\n",
      "Odd number\n",
      "Even number\n"
     ]
    },
    {
     "data": {
      "text/plain": [
       "[None, None, None, None, None, None, None, None, None, None, None]"
      ]
     },
     "execution_count": 23,
     "metadata": {},
     "output_type": "execute_result"
    }
   ],
   "source": [
    "[print('Even number') if num %2 == 0 else print('Odd number') for num in range(11)]"
   ]
  },
  {
   "cell_type": "code",
   "execution_count": 2,
   "id": "ce7a8a70",
   "metadata": {},
   "outputs": [
    {
     "name": "stdout",
     "output_type": "stream",
     "text": [
      "[1, 4, 9, 16, 25, 36, 49, 64, 81, 100]\n"
     ]
    }
   ],
   "source": [
    "my_list=[]\n",
    "for num in range(1,11,1):\n",
    "    my_list.append(num**2)\n",
    "    num+= 1\n",
    "print(my_list)"
   ]
  },
  {
   "cell_type": "code",
   "execution_count": 3,
   "id": "aae0744b",
   "metadata": {},
   "outputs": [
    {
     "data": {
      "text/plain": [
       "[0, 1, 4, 9, 16, 25, 36, 49, 64, 81, 100]"
      ]
     },
     "execution_count": 3,
     "metadata": {},
     "output_type": "execute_result"
    }
   ],
   "source": [
    "[num**2 for num in range(11)]"
   ]
  },
  {
   "cell_type": "code",
   "execution_count": 4,
   "id": "3cb16c03",
   "metadata": {},
   "outputs": [
    {
     "data": {
      "text/plain": [
       "[[0, 3, 6, 9], [0, 3, 6, 9], [0, 3, 6, 9], [0, 3, 6, 9], [0, 3, 6, 9]]"
      ]
     },
     "execution_count": 4,
     "metadata": {},
     "output_type": "execute_result"
    }
   ],
   "source": [
    "[[num*3 for num in range(4)] for num in range(5)]"
   ]
  },
  {
   "cell_type": "markdown",
   "id": "201aebcd",
   "metadata": {},
   "source": [
    "* # Dictionary Comprehension"
   ]
  },
  {
   "cell_type": "code",
   "execution_count": 5,
   "id": "e63e61df",
   "metadata": {},
   "outputs": [],
   "source": [
    "name = ['Moussa','Sall','Idris','George']"
   ]
  },
  {
   "cell_type": "code",
   "execution_count": 6,
   "id": "57eb982f",
   "metadata": {},
   "outputs": [],
   "source": [
    "dico = {k:v for k,v in enumerate(name)}"
   ]
  },
  {
   "cell_type": "code",
   "execution_count": 7,
   "id": "e132f7d5",
   "metadata": {},
   "outputs": [
    {
     "data": {
      "text/plain": [
       "{0: 'Moussa', 1: 'Sall', 2: 'Idris', 3: 'George'}"
      ]
     },
     "execution_count": 7,
     "metadata": {},
     "output_type": "execute_result"
    }
   ],
   "source": [
    "dico"
   ]
  },
  {
   "cell_type": "code",
   "execution_count": 8,
   "id": "ddf7cb2e",
   "metadata": {},
   "outputs": [],
   "source": [
    "gpa = [4,3.9,3.8,3.5]"
   ]
  },
  {
   "cell_type": "code",
   "execution_count": 9,
   "id": "372dd639",
   "metadata": {},
   "outputs": [
    {
     "data": {
      "text/plain": [
       "{'Moussa': 4, 'Sall': 3.9, 'Idris': 3.8, 'George': 3.5}"
      ]
     },
     "execution_count": 9,
     "metadata": {},
     "output_type": "execute_result"
    }
   ],
   "source": [
    "name_gpg = {k:v for k,v in zip(name,gpa)}\n",
    "name_gpg"
   ]
  },
  {
   "cell_type": "markdown",
   "id": "cad314cb",
   "metadata": {},
   "source": [
    "* ## Functions"
   ]
  },
  {
   "cell_type": "code",
   "execution_count": 10,
   "id": "0f29ee42",
   "metadata": {},
   "outputs": [],
   "source": [
    "def square_root_func(num):\n",
    "    result = num**0.5\n",
    "    return result"
   ]
  },
  {
   "cell_type": "code",
   "execution_count": 11,
   "id": "cfb65fe4",
   "metadata": {},
   "outputs": [
    {
     "data": {
      "text/plain": [
       "1.4142135623730951"
      ]
     },
     "execution_count": 11,
     "metadata": {},
     "output_type": "execute_result"
    }
   ],
   "source": [
    "square_root_func(2)"
   ]
  },
  {
   "cell_type": "code",
   "execution_count": 12,
   "id": "af067173",
   "metadata": {},
   "outputs": [
    {
     "name": "stdout",
     "output_type": "stream",
     "text": [
      "[1, 4, 9, 16, 25, 36, 49, 64, 81, 100]\n"
     ]
    }
   ],
   "source": [
    "my_list=[]\n",
    "for num in range(1,11,1):\n",
    "    my_list.append(num**2)\n",
    "    num+= 1\n",
    "print(my_list)"
   ]
  },
  {
   "cell_type": "code",
   "execution_count": 13,
   "id": "4708b07a",
   "metadata": {},
   "outputs": [],
   "source": [
    "def square_func(val):\n",
    "    my_list = []\n",
    "    for val in range(1,11):\n",
    "        my_list.append(val**2)\n",
    "        val = val+1\n",
    "    return my_list"
   ]
  },
  {
   "cell_type": "code",
   "execution_count": 14,
   "id": "01f621b0",
   "metadata": {},
   "outputs": [
    {
     "data": {
      "text/plain": [
       "[1, 4, 9, 16, 25, 36, 49, 64, 81, 100]"
      ]
     },
     "execution_count": 14,
     "metadata": {},
     "output_type": "execute_result"
    }
   ],
   "source": [
    "my_list"
   ]
  },
  {
   "cell_type": "code",
   "execution_count": null,
   "id": "287184aa",
   "metadata": {},
   "outputs": [],
   "source": []
  }
 ],
 "metadata": {
  "kernelspec": {
   "display_name": "Python 3 (ipykernel)",
   "language": "python",
   "name": "python3"
  },
  "language_info": {
   "codemirror_mode": {
    "name": "ipython",
    "version": 3
   },
   "file_extension": ".py",
   "mimetype": "text/x-python",
   "name": "python",
   "nbconvert_exporter": "python",
   "pygments_lexer": "ipython3",
   "version": "3.9.12"
  }
 },
 "nbformat": 4,
 "nbformat_minor": 5
}
